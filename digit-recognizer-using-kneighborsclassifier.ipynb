{
 "cells": [
  {
   "cell_type": "code",
   "execution_count": 1,
   "id": "e39991be",
   "metadata": {
    "_cell_guid": "b1076dfc-b9ad-4769-8c92-a6c4dae69d19",
    "_uuid": "8f2839f25d086af736a60e9eeb907d3b93b6e0e5",
    "execution": {
     "iopub.execute_input": "2023-04-02T15:35:06.267710Z",
     "iopub.status.busy": "2023-04-02T15:35:06.266969Z",
     "iopub.status.idle": "2023-04-02T15:35:06.282688Z",
     "shell.execute_reply": "2023-04-02T15:35:06.281597Z"
    },
    "papermill": {
     "duration": 0.026058,
     "end_time": "2023-04-02T15:35:06.286387",
     "exception": false,
     "start_time": "2023-04-02T15:35:06.260329",
     "status": "completed"
    },
    "tags": []
   },
   "outputs": [
    {
     "name": "stdout",
     "output_type": "stream",
     "text": [
      "/kaggle/input/digit-recognizer/sample_submission.csv\n",
      "/kaggle/input/digit-recognizer/train.csv\n",
      "/kaggle/input/digit-recognizer/test.csv\n"
     ]
    }
   ],
   "source": [
    "# This Python 3 environment comes with many helpful analytics libraries installed\n",
    "# It is defined by the kaggle/python Docker image: https://github.com/kaggle/docker-python\n",
    "# For example, here's several helpful packages to load\n",
    "\n",
    "import numpy as np # linear algebra\n",
    "import pandas as pd # data processing, CSV file I/O (e.g. pd.read_csv)\n",
    "\n",
    "# Input data files are available in the read-only \"../input/\" directory\n",
    "# For example, running this (by clicking run or pressing Shift+Enter) will list all files under the input directory\n",
    "\n",
    "import os\n",
    "for dirname, _, filenames in os.walk('/kaggle/input'):\n",
    "    for filename in filenames:\n",
    "        print(os.path.join(dirname, filename))\n",
    "\n",
    "# You can write up to 20GB to the current directory (/kaggle/working/) that gets preserved as output when you create a version using \"Save & Run All\" \n",
    "# You can also write temporary files to /kaggle/temp/, but they won't be saved outside of the current session"
   ]
  },
  {
   "cell_type": "code",
   "execution_count": 2,
   "id": "4f633794",
   "metadata": {
    "execution": {
     "iopub.execute_input": "2023-04-02T15:35:06.296179Z",
     "iopub.status.busy": "2023-04-02T15:35:06.295780Z",
     "iopub.status.idle": "2023-04-02T15:35:06.300842Z",
     "shell.execute_reply": "2023-04-02T15:35:06.299654Z"
    },
    "papermill": {
     "duration": 0.012833,
     "end_time": "2023-04-02T15:35:06.303326",
     "exception": false,
     "start_time": "2023-04-02T15:35:06.290493",
     "status": "completed"
    },
    "tags": []
   },
   "outputs": [],
   "source": [
    "import numpy as np\n",
    "import pandas as pd\n",
    "\n",
    "import matplotlib.pyplot as plt\n"
   ]
  },
  {
   "cell_type": "code",
   "execution_count": 3,
   "id": "4084b351",
   "metadata": {
    "execution": {
     "iopub.execute_input": "2023-04-02T15:35:06.313546Z",
     "iopub.status.busy": "2023-04-02T15:35:06.312100Z",
     "iopub.status.idle": "2023-04-02T15:35:12.129722Z",
     "shell.execute_reply": "2023-04-02T15:35:12.128367Z"
    },
    "papermill": {
     "duration": 5.826011,
     "end_time": "2023-04-02T15:35:12.133014",
     "exception": false,
     "start_time": "2023-04-02T15:35:06.307003",
     "status": "completed"
    },
    "tags": []
   },
   "outputs": [],
   "source": [
    "train_df = pd.read_csv(\"/kaggle/input/digit-recognizer/train.csv\")\n",
    "test_df = pd.read_csv(\"/kaggle/input/digit-recognizer/test.csv\")"
   ]
  },
  {
   "cell_type": "code",
   "execution_count": 4,
   "id": "f25f7b9a",
   "metadata": {
    "execution": {
     "iopub.execute_input": "2023-04-02T15:35:12.142260Z",
     "iopub.status.busy": "2023-04-02T15:35:12.141832Z",
     "iopub.status.idle": "2023-04-02T15:35:12.176956Z",
     "shell.execute_reply": "2023-04-02T15:35:12.175630Z"
    },
    "papermill": {
     "duration": 0.04285,
     "end_time": "2023-04-02T15:35:12.179628",
     "exception": false,
     "start_time": "2023-04-02T15:35:12.136778",
     "status": "completed"
    },
    "tags": []
   },
   "outputs": [
    {
     "data": {
      "text/html": [
       "<div>\n",
       "<style scoped>\n",
       "    .dataframe tbody tr th:only-of-type {\n",
       "        vertical-align: middle;\n",
       "    }\n",
       "\n",
       "    .dataframe tbody tr th {\n",
       "        vertical-align: top;\n",
       "    }\n",
       "\n",
       "    .dataframe thead th {\n",
       "        text-align: right;\n",
       "    }\n",
       "</style>\n",
       "<table border=\"1\" class=\"dataframe\">\n",
       "  <thead>\n",
       "    <tr style=\"text-align: right;\">\n",
       "      <th></th>\n",
       "      <th>label</th>\n",
       "      <th>pixel0</th>\n",
       "      <th>pixel1</th>\n",
       "      <th>pixel2</th>\n",
       "      <th>pixel3</th>\n",
       "      <th>pixel4</th>\n",
       "      <th>pixel5</th>\n",
       "      <th>pixel6</th>\n",
       "      <th>pixel7</th>\n",
       "      <th>pixel8</th>\n",
       "      <th>...</th>\n",
       "      <th>pixel774</th>\n",
       "      <th>pixel775</th>\n",
       "      <th>pixel776</th>\n",
       "      <th>pixel777</th>\n",
       "      <th>pixel778</th>\n",
       "      <th>pixel779</th>\n",
       "      <th>pixel780</th>\n",
       "      <th>pixel781</th>\n",
       "      <th>pixel782</th>\n",
       "      <th>pixel783</th>\n",
       "    </tr>\n",
       "  </thead>\n",
       "  <tbody>\n",
       "    <tr>\n",
       "      <th>0</th>\n",
       "      <td>1</td>\n",
       "      <td>0</td>\n",
       "      <td>0</td>\n",
       "      <td>0</td>\n",
       "      <td>0</td>\n",
       "      <td>0</td>\n",
       "      <td>0</td>\n",
       "      <td>0</td>\n",
       "      <td>0</td>\n",
       "      <td>0</td>\n",
       "      <td>...</td>\n",
       "      <td>0</td>\n",
       "      <td>0</td>\n",
       "      <td>0</td>\n",
       "      <td>0</td>\n",
       "      <td>0</td>\n",
       "      <td>0</td>\n",
       "      <td>0</td>\n",
       "      <td>0</td>\n",
       "      <td>0</td>\n",
       "      <td>0</td>\n",
       "    </tr>\n",
       "    <tr>\n",
       "      <th>1</th>\n",
       "      <td>0</td>\n",
       "      <td>0</td>\n",
       "      <td>0</td>\n",
       "      <td>0</td>\n",
       "      <td>0</td>\n",
       "      <td>0</td>\n",
       "      <td>0</td>\n",
       "      <td>0</td>\n",
       "      <td>0</td>\n",
       "      <td>0</td>\n",
       "      <td>...</td>\n",
       "      <td>0</td>\n",
       "      <td>0</td>\n",
       "      <td>0</td>\n",
       "      <td>0</td>\n",
       "      <td>0</td>\n",
       "      <td>0</td>\n",
       "      <td>0</td>\n",
       "      <td>0</td>\n",
       "      <td>0</td>\n",
       "      <td>0</td>\n",
       "    </tr>\n",
       "    <tr>\n",
       "      <th>2</th>\n",
       "      <td>1</td>\n",
       "      <td>0</td>\n",
       "      <td>0</td>\n",
       "      <td>0</td>\n",
       "      <td>0</td>\n",
       "      <td>0</td>\n",
       "      <td>0</td>\n",
       "      <td>0</td>\n",
       "      <td>0</td>\n",
       "      <td>0</td>\n",
       "      <td>...</td>\n",
       "      <td>0</td>\n",
       "      <td>0</td>\n",
       "      <td>0</td>\n",
       "      <td>0</td>\n",
       "      <td>0</td>\n",
       "      <td>0</td>\n",
       "      <td>0</td>\n",
       "      <td>0</td>\n",
       "      <td>0</td>\n",
       "      <td>0</td>\n",
       "    </tr>\n",
       "    <tr>\n",
       "      <th>3</th>\n",
       "      <td>4</td>\n",
       "      <td>0</td>\n",
       "      <td>0</td>\n",
       "      <td>0</td>\n",
       "      <td>0</td>\n",
       "      <td>0</td>\n",
       "      <td>0</td>\n",
       "      <td>0</td>\n",
       "      <td>0</td>\n",
       "      <td>0</td>\n",
       "      <td>...</td>\n",
       "      <td>0</td>\n",
       "      <td>0</td>\n",
       "      <td>0</td>\n",
       "      <td>0</td>\n",
       "      <td>0</td>\n",
       "      <td>0</td>\n",
       "      <td>0</td>\n",
       "      <td>0</td>\n",
       "      <td>0</td>\n",
       "      <td>0</td>\n",
       "    </tr>\n",
       "    <tr>\n",
       "      <th>4</th>\n",
       "      <td>0</td>\n",
       "      <td>0</td>\n",
       "      <td>0</td>\n",
       "      <td>0</td>\n",
       "      <td>0</td>\n",
       "      <td>0</td>\n",
       "      <td>0</td>\n",
       "      <td>0</td>\n",
       "      <td>0</td>\n",
       "      <td>0</td>\n",
       "      <td>...</td>\n",
       "      <td>0</td>\n",
       "      <td>0</td>\n",
       "      <td>0</td>\n",
       "      <td>0</td>\n",
       "      <td>0</td>\n",
       "      <td>0</td>\n",
       "      <td>0</td>\n",
       "      <td>0</td>\n",
       "      <td>0</td>\n",
       "      <td>0</td>\n",
       "    </tr>\n",
       "  </tbody>\n",
       "</table>\n",
       "<p>5 rows × 785 columns</p>\n",
       "</div>"
      ],
      "text/plain": [
       "   label  pixel0  pixel1  pixel2  pixel3  pixel4  pixel5  pixel6  pixel7  \\\n",
       "0      1       0       0       0       0       0       0       0       0   \n",
       "1      0       0       0       0       0       0       0       0       0   \n",
       "2      1       0       0       0       0       0       0       0       0   \n",
       "3      4       0       0       0       0       0       0       0       0   \n",
       "4      0       0       0       0       0       0       0       0       0   \n",
       "\n",
       "   pixel8  ...  pixel774  pixel775  pixel776  pixel777  pixel778  pixel779  \\\n",
       "0       0  ...         0         0         0         0         0         0   \n",
       "1       0  ...         0         0         0         0         0         0   \n",
       "2       0  ...         0         0         0         0         0         0   \n",
       "3       0  ...         0         0         0         0         0         0   \n",
       "4       0  ...         0         0         0         0         0         0   \n",
       "\n",
       "   pixel780  pixel781  pixel782  pixel783  \n",
       "0         0         0         0         0  \n",
       "1         0         0         0         0  \n",
       "2         0         0         0         0  \n",
       "3         0         0         0         0  \n",
       "4         0         0         0         0  \n",
       "\n",
       "[5 rows x 785 columns]"
      ]
     },
     "execution_count": 4,
     "metadata": {},
     "output_type": "execute_result"
    }
   ],
   "source": [
    "train_df.head()"
   ]
  },
  {
   "cell_type": "code",
   "execution_count": 5,
   "id": "c76f17fe",
   "metadata": {
    "execution": {
     "iopub.execute_input": "2023-04-02T15:35:12.189556Z",
     "iopub.status.busy": "2023-04-02T15:35:12.189120Z",
     "iopub.status.idle": "2023-04-02T15:35:12.308824Z",
     "shell.execute_reply": "2023-04-02T15:35:12.307643Z"
    },
    "papermill": {
     "duration": 0.127805,
     "end_time": "2023-04-02T15:35:12.311489",
     "exception": false,
     "start_time": "2023-04-02T15:35:12.183684",
     "status": "completed"
    },
    "tags": []
   },
   "outputs": [],
   "source": [
    "X = train_df.drop(\"label\", axis=1)\n",
    "y = train_df[\"label\"]"
   ]
  },
  {
   "cell_type": "code",
   "execution_count": 6,
   "id": "2af451f8",
   "metadata": {
    "execution": {
     "iopub.execute_input": "2023-04-02T15:35:12.321502Z",
     "iopub.status.busy": "2023-04-02T15:35:12.321029Z",
     "iopub.status.idle": "2023-04-02T15:35:13.829047Z",
     "shell.execute_reply": "2023-04-02T15:35:13.827699Z"
    },
    "papermill": {
     "duration": 1.516051,
     "end_time": "2023-04-02T15:35:13.831619",
     "exception": false,
     "start_time": "2023-04-02T15:35:12.315568",
     "status": "completed"
    },
    "tags": []
   },
   "outputs": [
    {
     "data": {
      "text/plain": [
       "KNeighborsClassifier(n_neighbors=3, weights='distance')"
      ]
     },
     "execution_count": 6,
     "metadata": {},
     "output_type": "execute_result"
    }
   ],
   "source": [
    "from sklearn.neighbors import KNeighborsClassifier\n",
    "from sklearn.model_selection import GridSearchCV\n",
    "model = KNeighborsClassifier(weights=\"distance\", n_neighbors=3)\n",
    "\n",
    "# grid_params = {\n",
    "#     'weights': ['uniform', 'distance'],\n",
    "#     'n_neighbors': [1, 2, 3, 4, 5],\n",
    "# }\n",
    "\n",
    "# gs = GridSearchCV(model, \n",
    "#                   grid_params, \n",
    "#                   verbose=3, \n",
    "#                   cv=3)\n",
    "\n",
    "model.fit(X, y)"
   ]
  },
  {
   "cell_type": "code",
   "execution_count": 7,
   "id": "90e112d1",
   "metadata": {
    "execution": {
     "iopub.execute_input": "2023-04-02T15:35:13.842553Z",
     "iopub.status.busy": "2023-04-02T15:35:13.841576Z",
     "iopub.status.idle": "2023-04-02T15:35:58.985911Z",
     "shell.execute_reply": "2023-04-02T15:35:58.984636Z"
    },
    "papermill": {
     "duration": 45.153046,
     "end_time": "2023-04-02T15:35:58.988937",
     "exception": false,
     "start_time": "2023-04-02T15:35:13.835891",
     "status": "completed"
    },
    "tags": []
   },
   "outputs": [],
   "source": [
    "y_pred = model.predict(test_df)"
   ]
  },
  {
   "cell_type": "code",
   "execution_count": 8,
   "id": "1f207d06",
   "metadata": {
    "execution": {
     "iopub.execute_input": "2023-04-02T15:35:58.999170Z",
     "iopub.status.busy": "2023-04-02T15:35:58.998727Z",
     "iopub.status.idle": "2023-04-02T15:35:59.006433Z",
     "shell.execute_reply": "2023-04-02T15:35:59.005274Z"
    },
    "papermill": {
     "duration": 0.016004,
     "end_time": "2023-04-02T15:35:59.009192",
     "exception": false,
     "start_time": "2023-04-02T15:35:58.993188",
     "status": "completed"
    },
    "tags": []
   },
   "outputs": [],
   "source": [
    "test_df[\"Label\"] = y_pred"
   ]
  },
  {
   "cell_type": "code",
   "execution_count": 9,
   "id": "57e4bfbf",
   "metadata": {
    "execution": {
     "iopub.execute_input": "2023-04-02T15:35:59.019458Z",
     "iopub.status.busy": "2023-04-02T15:35:59.018998Z",
     "iopub.status.idle": "2023-04-02T15:35:59.181699Z",
     "shell.execute_reply": "2023-04-02T15:35:59.180416Z"
    },
    "papermill": {
     "duration": 0.171305,
     "end_time": "2023-04-02T15:35:59.184841",
     "exception": false,
     "start_time": "2023-04-02T15:35:59.013536",
     "status": "completed"
    },
    "tags": []
   },
   "outputs": [],
   "source": [
    "submission_df = test_df[[\"Label\"]]\n",
    "\n",
    "submission_df.to_csv(\"submission.csv\", index_label=\"ImageId\")"
   ]
  },
  {
   "cell_type": "code",
   "execution_count": 10,
   "id": "d43a5ea5",
   "metadata": {
    "execution": {
     "iopub.execute_input": "2023-04-02T15:35:59.195083Z",
     "iopub.status.busy": "2023-04-02T15:35:59.194359Z",
     "iopub.status.idle": "2023-04-02T15:35:59.638762Z",
     "shell.execute_reply": "2023-04-02T15:35:59.637431Z"
    },
    "papermill": {
     "duration": 0.453099,
     "end_time": "2023-04-02T15:35:59.642046",
     "exception": false,
     "start_time": "2023-04-02T15:35:59.188947",
     "status": "completed"
    },
    "tags": []
   },
   "outputs": [
    {
     "data": {
      "image/png": "[encoded data removed]",
      "text/plain": [
       "<Figure size 640x480 with 1 Axes>"
      ]
     },
     "metadata": {},
     "output_type": "display_data"
    },
    {
     "name": "stdout",
     "output_type": "stream",
     "text": [
      "Predicted Value: 7\n"
     ]
    }
   ],
   "source": [
    "if __name__ == \"__main__\":    \n",
    "    copy_test = test_df.drop(\"Label\", axis = 1)\n",
    "    random_index = 5\n",
    "    digit = copy_test.iloc[[random_index]].values.reshape(28, 28)\n",
    "    predicted_digit = model.predict(copy_test.iloc[[random_index]])\n",
    "\n",
    "    plt.imshow(digit)\n",
    "\n",
    "    plt.show()\n",
    "\n",
    "    print(\"Predicted Value:\", predicted_digit[0])"
   ]
  },
  {
   "cell_type": "code",
   "execution_count": null,
   "id": "99d5e8e4",
   "metadata": {
    "papermill": {
     "duration": 0.00401,
     "end_time": "2023-04-02T15:35:59.650333",
     "exception": false,
     "start_time": "2023-04-02T15:35:59.646323",
     "status": "completed"
    },
    "tags": []
   },
   "outputs": [],
   "source": []
  }
 ],
 "metadata": {
  "kernelspec": {
   "display_name": "Python 3",
   "language": "python",
   "name": "python3"
  },
  "language_info": {
   "codemirror_mode": {
    "name": "ipython",
    "version": 3
   },
   "file_extension": ".py",
   "mimetype": "text/x-python",
   "name": "python",
   "nbconvert_exporter": "python",
   "pygments_lexer": "ipython3",
   "version": "3.7.12"
  },
  "papermill": {
   "default_parameters": {},
   "duration": 64.647335,
   "end_time": "2023-04-02T15:36:00.377355",
   "environment_variables": {},
   "exception": null,
   "input_path": "__notebook__.ipynb",
   "output_path": "__notebook__.ipynb",
   "parameters": {},
   "start_time": "2023-04-02T15:34:55.730020",
   "version": "2.4.0"
  }
 },
 "nbformat": 4,
 "nbformat_minor": 5
}
